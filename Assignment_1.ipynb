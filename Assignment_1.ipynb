{
 "cells": [
  {
   "cell_type": "markdown",
   "id": "efaaf1b2",
   "metadata": {},
   "source": [
    "💡 **Q1.** Given an array of integers nums and an integer target, return indices of the two numbers such that they add up to target.\n",
    "\n",
    "You may assume that each input would have exactly one solution, and you may not use the same element twice.\n",
    "\n",
    "You can return the answer in any order.\n",
    "\n",
    "**Example:**\n",
    "Input: nums = [2,7,11,15], target = 9\n",
    "Output0 [0,1]\n",
    "\n",
    "**Explanation:** Because nums[0] + nums[1] == 9, we return [0, 1][\n",
    "\n",
    "\n",
    "\n",
    "💡 **Q2.** Given an integer array nums and an integer val, remove all occurrences of val in nums in-place. The order of the elements may be changed. Then return the number of elements in nums which are not equal to val.\n",
    "\n",
    "Consider the number of elements in nums which are not equal to val be k, to get accepted, you need to do the following things:\n",
    "\n",
    "- Change the array nums such that the first k elements of nums contain the elements which are not equal to val. The remaining elements of nums are not important as well as the size of nums.\n",
    "- Return k.\n",
    "\n",
    "**Example :**\n",
    "Input: nums = [3,2,2,3], val = 3\n",
    "Output: 2, nums = [2,2,_*,_*]\n",
    "\n",
    "**Explanation:** Your function should return k = 2, with the first two elements of nums being 2. It does not matter what you leave beyond the returned k (hence they are underscores)[\n",
    "\n",
    "\n",
    "\n",
    "\n",
    "💡 **Q3.** Given a sorted array of distinct integers and a target value, return the index if the target is found. If not, return the index where it would be if it were inserted in order.\n",
    "\n",
    "You must write an algorithm with O(log n) runtime complexity.\n",
    "\n",
    "**Example 1:**\n",
    "Input: nums = [1,3,5,6], target = 5\n",
    "\n",
    "Output: 2\n",
    "\n",
    "\n",
    "\n",
    "\n",
    "💡 **Q4.** You are given a large integer represented as an integer array digits, where each digits[i] is the ith digit of the integer. The digits are ordered from most significant to least significant in left-to-right order. The large integer does not contain any leading 0's.\n",
    "\n",
    "Increment the large integer by one and return the resulting array of digits.\n",
    "\n",
    "**Example 1:**\n",
    "Input: digits = [1,2,3]\n",
    "Output: [1,2,4]\n",
    "\n",
    "**Explanation:** The array represents the integer 123.\n",
    "\n",
    "Incrementing by one gives 123 + 1 = 124.\n",
    "Thus, the result should be [1,2,4].\n",
    "\n",
    "\n",
    "\n",
    "\n",
    "💡 **Q5.** You are given two integer arrays nums1 and nums2, sorted in non-decreasing order, and two integers m and n, representing the number of elements in nums1 and nums2 respectively.\n",
    "\n",
    "Merge nums1 and nums2 into a single array sorted in non-decreasing order.\n",
    "\n",
    "The final sorted array should not be returned by the function, but instead be stored inside the array nums1. To accommodate this, nums1 has a length of m + n, where the first m elements denote the elements that should be merged, and the last n elements are set to 0 and should be ignored. nums2 has a length of n.\n",
    "\n",
    "**Example 1:**\n",
    "Input: nums1 = [1,2,3,0,0,0], m = 3, nums2 = [2,5,6], n = 3\n",
    "Output: [1,2,2,3,5,6]\n",
    "\n",
    "**Explanation:** The arrays we are merging are [1,2,3] and [2,5,6].\n",
    "The result of the merge is [1,2,2,3,5,6] with the underlined elements coming from nums1.\n",
    "\n",
    "\n",
    "\n",
    "\n",
    "💡 **Q6.** Given an integer array nums, return true if any value appears at least twice in the array, and return false if every element is distinct.\n",
    "\n",
    "**Example 1:**\n",
    "Input: nums = [1,2,3,1]\n",
    "\n",
    "Output: true\n",
    "\n",
    "\n",
    "\n",
    "\n",
    "💡 **Q7.** Given an integer array nums, move all 0's to the end of it while maintaining the relative order of the nonzero elements.\n",
    "\n",
    "Note that you must do this in-place without making a copy of the array.\n",
    "\n",
    "**Example 1:**\n",
    "Input: nums = [0,1,0,3,12]\n",
    "Output: [1,3,12,0,0]\n",
    "\n",
    "\n",
    "\n",
    "\n",
    "💡 **Q8.** You have a set of integers s, which originally contains all the numbers from 1 to n. Unfortunately, due to some error, one of the numbers in s got duplicated to another number in the set, which results in repetition of one number and loss of another number.\n",
    "\n",
    "You are given an integer array nums representing the data status of this set after the error.\n",
    "\n",
    "Find the number that occurs twice and the number that is missing and return them in the form of an array.\n",
    "\n",
    "**Example 1:**\n",
    "Input: nums = [1,2,2,4]\n",
    "Output: [2,3]\n",
    "\n"
   ]
  },
  {
   "cell_type": "code",
   "execution_count": 1,
   "id": "cf39cabd",
   "metadata": {},
   "outputs": [],
   "source": [
    "#Q1\n",
    "def twoSum(nums, target):\n",
    "    \"\"\"\n",
    "    :type nums: List[int]\n",
    "    :type target: int\n",
    "    :rtype: List[int]\n",
    "    \"\"\"\n",
    "    num_to_index = {}\n",
    "    for i, num in enumerate(nums):\n",
    "        complement = target - num\n",
    "        if complement in num_to_index:\n",
    "            return [num_to_index[complement], i]\n",
    "        num_to_index[num] = i"
   ]
  },
  {
   "cell_type": "code",
   "execution_count": 2,
   "id": "ee4d39e3",
   "metadata": {},
   "outputs": [
    {
     "data": {
      "text/plain": [
       "[0, 1]"
      ]
     },
     "execution_count": 2,
     "metadata": {},
     "output_type": "execute_result"
    }
   ],
   "source": [
    "twoSum( [2,7,11,15],9)"
   ]
  },
  {
   "cell_type": "code",
   "execution_count": 3,
   "id": "426ac04f",
   "metadata": {},
   "outputs": [],
   "source": [
    "#Q2\n",
    "def remove_element(nums, val):\n",
    "    i = 0\n",
    "    for j in range(len(nums)):\n",
    "        if nums[j] != val:\n",
    "            nums[i] = nums[j]\n",
    "            i += 1\n",
    "    return i\n"
   ]
  },
  {
   "cell_type": "code",
   "execution_count": 4,
   "id": "666f51b2",
   "metadata": {},
   "outputs": [
    {
     "data": {
      "text/plain": [
       "2"
      ]
     },
     "execution_count": 4,
     "metadata": {},
     "output_type": "execute_result"
    }
   ],
   "source": [
    "remove_element([3,2,2,3], 3)"
   ]
  },
  {
   "cell_type": "code",
   "execution_count": 5,
   "id": "fcd66614",
   "metadata": {},
   "outputs": [],
   "source": [
    "#Q3\n",
    "def search_insert(nums, target):\n",
    "    left, right = 0, len(nums) - 1\n",
    "    while left <= right:\n",
    "        mid = (left + right) // 2\n",
    "        if nums[mid] == target:\n",
    "            return mid\n",
    "        elif nums[mid] < target:\n",
    "            left = mid + 1\n",
    "        else:\n",
    "            right = mid - 1\n",
    "    return left"
   ]
  },
  {
   "cell_type": "code",
   "execution_count": 6,
   "id": "a2144e7e",
   "metadata": {},
   "outputs": [
    {
     "data": {
      "text/plain": [
       "2"
      ]
     },
     "execution_count": 6,
     "metadata": {},
     "output_type": "execute_result"
    }
   ],
   "source": [
    "search_insert( [1,3,5,6], 5)"
   ]
  },
  {
   "cell_type": "code",
   "execution_count": 7,
   "id": "5f20f27b",
   "metadata": {},
   "outputs": [],
   "source": [
    "#Q4\n",
    "def plus_one(digits):\n",
    "    n = len(digits)\n",
    "    for i in range(n-1, -1, -1):\n",
    "        if digits[i] == 9:\n",
    "            digits[i] = 0\n",
    "        else:\n",
    "            digits[i] += 1\n",
    "            return digits\n",
    "    return [1] + digits\n"
   ]
  },
  {
   "cell_type": "code",
   "execution_count": 8,
   "id": "5fb962f6",
   "metadata": {},
   "outputs": [
    {
     "data": {
      "text/plain": [
       "[1, 2, 4]"
      ]
     },
     "execution_count": 8,
     "metadata": {},
     "output_type": "execute_result"
    }
   ],
   "source": [
    "plus_one([1,2,3])"
   ]
  },
  {
   "cell_type": "code",
   "execution_count": 12,
   "id": "01c32aa7",
   "metadata": {},
   "outputs": [],
   "source": [
    "#Q5\n",
    "def merge(nums1, m, nums2, n):\n",
    "    i, j = m-1, n-1\n",
    "    k = m+n-1\n",
    "    while i >= 0 and j >= 0:\n",
    "        if nums1[i] > nums2[j]:\n",
    "            nums1[k] = nums1[i]\n",
    "            i -= 1\n",
    "        else:\n",
    "            nums1[k] = nums2[j]\n",
    "            j -= 1\n",
    "        k -= 1\n",
    "    while j >= 0:\n",
    "        nums1[k] = nums2[j]\n",
    "        j -= 1\n",
    "        k -= 1\n",
    "    return nums1\n"
   ]
  },
  {
   "cell_type": "code",
   "execution_count": 13,
   "id": "aec0be41",
   "metadata": {},
   "outputs": [
    {
     "data": {
      "text/plain": [
       "[1, 2, 2, 3, 5, 6]"
      ]
     },
     "execution_count": 13,
     "metadata": {},
     "output_type": "execute_result"
    }
   ],
   "source": [
    "merge( [1,2,3,0,0,0],3, [2,5,6],3)"
   ]
  },
  {
   "cell_type": "code",
   "execution_count": 14,
   "id": "4bbeefdc",
   "metadata": {},
   "outputs": [],
   "source": [
    "#Q6\n",
    "def contains_duplicate(nums):\n",
    "    seen = set()\n",
    "    for num in nums:\n",
    "        if num in seen:\n",
    "            return True\n",
    "        seen.add(num)\n",
    "    return False\n"
   ]
  },
  {
   "cell_type": "code",
   "execution_count": 15,
   "id": "2b546a8a",
   "metadata": {},
   "outputs": [
    {
     "data": {
      "text/plain": [
       "True"
      ]
     },
     "execution_count": 15,
     "metadata": {},
     "output_type": "execute_result"
    }
   ],
   "source": [
    "contains_duplicate([1,2,3,1])"
   ]
  },
  {
   "cell_type": "code",
   "execution_count": 20,
   "id": "7f4898cf",
   "metadata": {},
   "outputs": [],
   "source": [
    "#Q7\n",
    "def move_zeroes(nums):\n",
    "    i = 0\n",
    "    for j in range(len(nums)):\n",
    "        if nums[j] != 0:\n",
    "            nums[i], nums[j] = nums[j], nums[i]\n",
    "            i += 1\n",
    "    return nums\n"
   ]
  },
  {
   "cell_type": "code",
   "execution_count": 21,
   "id": "64dafbfe",
   "metadata": {},
   "outputs": [
    {
     "data": {
      "text/plain": [
       "[1, 3, 12, 0, 0]"
      ]
     },
     "execution_count": 21,
     "metadata": {},
     "output_type": "execute_result"
    }
   ],
   "source": [
    "move_zeroes([0, 1, 0, 3, 12])"
   ]
  },
  {
   "cell_type": "code",
   "execution_count": 22,
   "id": "53c81029",
   "metadata": {},
   "outputs": [],
   "source": [
    "def find_error_nums(nums):\n",
    "    n = len(nums)\n",
    "    s = sum(nums)\n",
    "    d = s - n*(n+1)//2\n",
    "    m = sum(x*x for x in nums) - n*(n+1)*(2*n+1)//6\n",
    "    diff = int((m - d*d) / (2*d) )\n",
    "    return [diff+d, diff]\n"
   ]
  },
  {
   "cell_type": "code",
   "execution_count": 23,
   "id": "43237fc9",
   "metadata": {},
   "outputs": [
    {
     "data": {
      "text/plain": [
       "[2, 3]"
      ]
     },
     "execution_count": 23,
     "metadata": {},
     "output_type": "execute_result"
    }
   ],
   "source": [
    "find_error_nums( [1,2,2,4])"
   ]
  },
  {
   "cell_type": "code",
   "execution_count": null,
   "id": "7c77e866",
   "metadata": {},
   "outputs": [],
   "source": []
  }
 ],
 "metadata": {
  "kernelspec": {
   "display_name": "Python 3 (ipykernel)",
   "language": "python",
   "name": "python3"
  },
  "language_info": {
   "codemirror_mode": {
    "name": "ipython",
    "version": 3
   },
   "file_extension": ".py",
   "mimetype": "text/x-python",
   "name": "python",
   "nbconvert_exporter": "python",
   "pygments_lexer": "ipython3",
   "version": "3.9.13"
  }
 },
 "nbformat": 4,
 "nbformat_minor": 5
}
