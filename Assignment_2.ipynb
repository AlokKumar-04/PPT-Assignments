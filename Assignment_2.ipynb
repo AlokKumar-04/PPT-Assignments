{
 "cells": [
  {
   "cell_type": "markdown",
   "id": "49c64cd2",
   "metadata": {},
   "source": [
    "💡 **Question 1**\n",
    "Given an integer array nums of 2n integers, group these integers into n pairs (a1, b1), (a2, b2),..., (an, bn) such that the sum of min(ai, bi) for all i is maximized. Return the maximized sum.\n",
    "\n",
    "**Example 1:**\n",
    "Input: nums = [1,4,3,2]\n",
    "Output: 4\n",
    "\n",
    "**Explanation:** All possible pairings (ignoring the ordering of elements) are:\n",
    "\n",
    "1. (1, 4), (2, 3) -> min(1, 4) + min(2, 3) = 1 + 2 = 3\n",
    "2. (1, 3), (2, 4) -> min(1, 3) + min(2, 4) = 1 + 2 = 3\n",
    "3. (1, 2), (3, 4) -> min(1, 2) + min(3, 4) = 1 + 3 = 4\n",
    "So the maximum possible sum is 4\n",
    "\n",
    "\n",
    "\n",
    "💡 **Question 2**\n",
    "Alice has n candies, where the ith candy is of type candyType[i]. Alice noticed that she started to gain weight, so she visited a doctor. \n",
    "\n",
    "The doctor advised Alice to only eat n / 2 of the candies she has (n is always even). Alice likes her candies very much, and she wants to eat the maximum number of different types of candies while still following the doctor's advice. \n",
    "\n",
    "Given the integer array candyType of length n, return the maximum number of different types of candies she can eat if she only eats n / 2 of them.\n",
    "\n",
    "**Example 1:**\n",
    "Input: candyType = [1,1,2,2,3,3]\n",
    "Output: 3\n",
    "\n",
    "**Explanation**: Alice can only eat 6 / 2 = 3 candies. Since there are only 3 types, she can eat one of each type.\n",
    "\n",
    "\n",
    "\n",
    "\n",
    "💡 **Question 3**\n",
    "We define a harmonious array as an array where the difference between its maximum value\n",
    "and its minimum value is exactly 1.\n",
    "\n",
    "Given an integer array nums, return the length of its longest harmonious subsequence\n",
    "among all its possible subsequences.\n",
    "\n",
    "A subsequence of an array is a sequence that can be derived from the array by deleting some or no elements without changing the order of the remaining elements.\n",
    "\n",
    "**Example 1:**\n",
    "Input: nums = [1,3,2,2,5,2,3,7]\n",
    "Output: 5\n",
    "\n",
    "**Explanation:** The longest harmonious subsequence is [3,2,2,2,3].\n",
    "\n",
    "\n",
    "\n",
    "\n",
    "💡 **Question 4**\n",
    "You have a long flowerbed in which some of the plots are planted, and some are not.\n",
    "However, flowers cannot be planted in adjacent plots.\n",
    "Given an integer array flowerbed containing 0's and 1's, where 0 means empty and 1 means not empty, and an integer n, return true if n new flowers can be planted in the flowerbed without violating the no-adjacent-flowers rule and false otherwise.\n",
    "\n",
    "**Example 1:**\n",
    "Input: flowerbed = [1,0,0,0,1], n = 1\n",
    "Output: true\n",
    "\n",
    "\n",
    "\n",
    "\n",
    "💡 **Question 5**\n",
    "Given an integer array nums, find three numbers whose product is maximum and return the maximum product.\n",
    "\n",
    "**Example 1:**\n",
    "Input: nums = [1,2,3]\n",
    "Output: 6\n",
    "\n",
    "\n",
    "\n",
    "\n",
    "💡 **Question 6**\n",
    "Given an array of integers nums which is sorted in ascending order, and an integer target,\n",
    "write a function to search target in nums. If target exists, then return its index. Otherwise,\n",
    "return -1.\n",
    "\n",
    "You must write an algorithm with O(log n) runtime complexity.\n",
    "\n",
    "Input: nums = [-1,0,3,5,9,12], target = 9\n",
    "Output: 4\n",
    "\n",
    "**Explanation:** 9 exists in nums and its index is 4\n",
    "\n",
    "\n",
    "\n",
    "\n",
    "💡 **Question 7**\n",
    "An array is monotonic if it is either monotone increasing or monotone decreasing.\n",
    "\n",
    "An array nums is monotone increasing if for all i <= j, nums[i] <= nums[j]. An array nums is\n",
    "monotone decreasing if for all i <= j, nums[i] >= nums[j].\n",
    "\n",
    "Given an integer array nums, return true if the given array is monotonic, or false otherwise.\n",
    "\n",
    "**Example 1:**\n",
    "Input: nums = [1,2,2,3]\n",
    "Output: true\n",
    "\n",
    "\n",
    "\n",
    "\n",
    "💡 **Question 8**\n",
    "You are given an integer array nums and an integer k.\n",
    "\n",
    "In one operation, you can choose any index i where 0 <= i < nums.length and change nums[i] to nums[i] + x where x is an integer from the range [-k, k]. You can apply this operation at most once for each index i.\n",
    "\n",
    "The score of nums is the difference between the maximum and minimum elements in nums.\n",
    "\n",
    "Return the minimum score of nums after applying the mentioned operation at most once for each index in it.\n",
    "\n",
    "**Example 1:**\n",
    "Input: nums = [1], k = 0\n",
    "Output: 0\n",
    "\n",
    "**Explanation:** The score is max(nums) - min(nums) = 1 - 1 = 0."
   ]
  },
  {
   "cell_type": "code",
   "execution_count": 1,
   "id": "94e4f138",
   "metadata": {},
   "outputs": [],
   "source": [
    "#Q1\n",
    "def array_pair_sum(nums):\n",
    "    # sort the array\n",
    "    nums.sort()\n",
    "    # initialize the sum to zero\n",
    "    sum = 0\n",
    "    # iterate over the array by steps of 2\n",
    "    for i in range(0, len(nums), 2):\n",
    "        # add the minimum value of each pair to the sum\n",
    "        sum += nums[i]\n",
    "    # return the sum\n",
    "    return sum\n"
   ]
  },
  {
   "cell_type": "code",
   "execution_count": 2,
   "id": "8e390487",
   "metadata": {},
   "outputs": [
    {
     "name": "stdout",
     "output_type": "stream",
     "text": [
      "4\n"
     ]
    }
   ],
   "source": [
    "nums = [1, 4, 3, 2]\n",
    "print(array_pair_sum(nums)) \n"
   ]
  },
  {
   "cell_type": "code",
   "execution_count": 3,
   "id": "6b91a17a",
   "metadata": {},
   "outputs": [
    {
     "name": "stdout",
     "output_type": "stream",
     "text": [
      "3\n"
     ]
    }
   ],
   "source": [
    "#Q2\n",
    "def distributeCandies(candyType):\n",
    "    # calculate the maximum number of candies Alice can eat\n",
    "    max_candies = len(candyType) // 2\n",
    "    # calculate the number of unique candy types\n",
    "    unique_candies = len(set(candyType))\n",
    "    # return the minimum of the two values\n",
    "    return min(max_candies, unique_candies)\n",
    "\n",
    "\n",
    "candyType = [1, 1, 2, 2, 3, 3]\n",
    "print(distributeCandies(candyType)) \n"
   ]
  },
  {
   "cell_type": "code",
   "execution_count": 5,
   "id": "daebc68a",
   "metadata": {},
   "outputs": [
    {
     "name": "stdout",
     "output_type": "stream",
     "text": [
      "5\n"
     ]
    }
   ],
   "source": [
    "#Q3\n",
    "def findLHS(nums):\n",
    "    # create a dictionary to count the frequency of each number\n",
    "    freq = {}\n",
    "    for num in nums:\n",
    "        freq[num] = freq.get(num, 0) + 1\n",
    "    # initialize the maximum length to zero\n",
    "    max_length = 0\n",
    "    # iterate over the dictionary keys\n",
    "    for num in freq.keys():\n",
    "        # check if the difference between the current number and the next number is 1\n",
    "        if num + 1 in freq:\n",
    "            # calculate the length of the harmonious subsequence\n",
    "            length = freq[num] + freq[num + 1]\n",
    "            # update the maximum length if necessary\n",
    "            max_length = max(max_length, length)\n",
    "    # return the maximum length\n",
    "    return max_length\n",
    "\n",
    "\n",
    "nums = [1, 3, 2, 2, 5, 2, 3, 7]\n",
    "print(findLHS(nums))"
   ]
  },
  {
   "cell_type": "code",
   "execution_count": 6,
   "id": "d9c1dc90",
   "metadata": {},
   "outputs": [
    {
     "name": "stdout",
     "output_type": "stream",
     "text": [
      "True\n"
     ]
    }
   ],
   "source": [
    "#Q4\n",
    "def canPlaceFlowers(flowerbed, n):\n",
    "    # initialize the counter and the index to zero\n",
    "    count = 0\n",
    "    i = 0\n",
    "    # iterate over the flowerbed array\n",
    "    while i < len(flowerbed):\n",
    "        # check if the current plot is empty and its neighbors are also empty\n",
    "        if flowerbed[i] == 0 and (i == 0 or flowerbed[i - 1] == 0) and (i == len(flowerbed) - 1 or flowerbed[i + 1] == 0):\n",
    "            # plant a flower and increment the counter\n",
    "            flowerbed[i] = 1\n",
    "            count += 1\n",
    "        # check if the required number of flowers have been planted\n",
    "        if count >= n:\n",
    "            return True\n",
    "        # move to the next plot\n",
    "        i += 1\n",
    "    # return False if the required number of flowers could not be planted\n",
    "    return False\n",
    "\n",
    "\n",
    "\n",
    "flowerbed = [1, 0, 0, 0, 1]\n",
    "n = 1\n",
    "print(canPlaceFlowers(flowerbed, n)) \n"
   ]
  },
  {
   "cell_type": "code",
   "execution_count": 8,
   "id": "e1dcf3e6",
   "metadata": {},
   "outputs": [
    {
     "name": "stdout",
     "output_type": "stream",
     "text": [
      "6\n"
     ]
    }
   ],
   "source": [
    "#Q5\n",
    "def maximumProduct(nums):\n",
    "    # sort the array in ascending order\n",
    "    nums.sort()\n",
    "    # calculate the product of the three largest numbers and the two smallest numbers and return the maximum\n",
    "    return max(nums[-1] * nums[-2] * nums[-3], nums[0] * nums[1] * nums[-1])\n",
    "\n",
    "\n",
    "nums = [1, 2, 3]\n",
    "print(maximumProduct(nums))\n"
   ]
  },
  {
   "cell_type": "code",
   "execution_count": 9,
   "id": "d1d5930e",
   "metadata": {},
   "outputs": [
    {
     "name": "stdout",
     "output_type": "stream",
     "text": [
      "4\n"
     ]
    }
   ],
   "source": [
    "#Q6\n",
    "def search(nums, target):\n",
    "    # initialize the left and right pointers\n",
    "    left = 0\n",
    "    right = len(nums) - 1\n",
    "    # iterate while the left pointer is less than or equal to the right pointer\n",
    "    while left <= right:\n",
    "        # calculate the middle index\n",
    "        mid = (left + right) // 2\n",
    "        # check if the middle element is equal to the target\n",
    "        if nums[mid] == target:\n",
    "            return mid\n",
    "        # check if the target is in the left half of the array\n",
    "        elif nums[mid] > target:\n",
    "            right = mid - 1\n",
    "        # check if the target is in the right half of the array\n",
    "        else:\n",
    "            left = mid + 1\n",
    "    # return -1 if the target is not found in the array\n",
    "    return -1\n",
    "\n",
    "\n",
    "nums = [-1, 0, 3, 5, 9, 12]\n",
    "target = 9\n",
    "print(search(nums, target)) \n"
   ]
  },
  {
   "cell_type": "code",
   "execution_count": 10,
   "id": "5fa04e97",
   "metadata": {},
   "outputs": [
    {
     "name": "stdout",
     "output_type": "stream",
     "text": [
      "True\n"
     ]
    }
   ],
   "source": [
    "#Q7\n",
    "def isMonotonic(nums):\n",
    "    # initialize the flags to True\n",
    "    increasing = True\n",
    "    decreasing = True\n",
    "    # iterate over the array\n",
    "    for i in range(1, len(nums)):\n",
    "        # check if the current element is greater than the previous element\n",
    "        if nums[i] > nums[i - 1]:\n",
    "            decreasing = False\n",
    "        # check if the current element is less than the previous element\n",
    "        elif nums[i] < nums[i - 1]:\n",
    "            increasing = False\n",
    "        # check if both flags are False\n",
    "        if not increasing and not decreasing:\n",
    "            return False\n",
    "    # return True if either flag is True\n",
    "    return True\n",
    "\n",
    "\n",
    "nums = [1, 2, 2, 3]\n",
    "print(isMonotonic(nums)) \n"
   ]
  },
  {
   "cell_type": "code",
   "execution_count": 15,
   "id": "fc8323a5",
   "metadata": {},
   "outputs": [],
   "source": [
    "#Q8\n",
    "def minDifference(nums, k):\n",
    "    # sort the array in ascending order\n",
    "    nums.sort()\n",
    "    # initialize the minimum score to the maximum possible value\n",
    "    min_score = float('inf')\n",
    "    # iterate over the array\n",
    "    for i in range(len(nums) - 1):\n",
    "        # calculate the new minimum and maximum values after applying the operation\n",
    "        new_min = min(nums[0] + k, nums[i + 1] - k)\n",
    "        new_max = max(nums[-1] - k, nums[i] + k)\n",
    "        # update the minimum score if the difference between the new maximum and minimum values is smaller\n",
    "        min_score = min(min_score, new_max - new_min)\n",
    "    # return the minimum score\n",
    "    return min_score\n"
   ]
  },
  {
   "cell_type": "code",
   "execution_count": 14,
   "id": "4c41f8e5",
   "metadata": {},
   "outputs": [
    {
     "name": "stdout",
     "output_type": "stream",
     "text": [
      "inf\n"
     ]
    }
   ],
   "source": [
    "nums = [1]\n",
    "k = 0\n",
    "print(minDifference(nums, k))"
   ]
  },
  {
   "cell_type": "code",
   "execution_count": null,
   "id": "53e3b061",
   "metadata": {},
   "outputs": [],
   "source": []
  }
 ],
 "metadata": {
  "kernelspec": {
   "display_name": "Python 3 (ipykernel)",
   "language": "python",
   "name": "python3"
  },
  "language_info": {
   "codemirror_mode": {
    "name": "ipython",
    "version": 3
   },
   "file_extension": ".py",
   "mimetype": "text/x-python",
   "name": "python",
   "nbconvert_exporter": "python",
   "pygments_lexer": "ipython3",
   "version": "3.9.13"
  }
 },
 "nbformat": 4,
 "nbformat_minor": 5
}
