{
 "cells": [
  {
   "cell_type": "code",
   "execution_count": 1,
   "id": "5b984776",
   "metadata": {},
   "outputs": [],
   "source": [
    "#Q1\n",
    "class Stack:\n",
    "    def __init__(self):\n",
    "        self.items = []\n",
    "\n",
    "    def push(self, item):\n",
    "        self.items.append(item)\n",
    "\n",
    "    def pop(self):\n",
    "        return self.items.pop()\n",
    "\n",
    "    def isEmpty(self):\n",
    "        return len(self.items) == 0\n"
   ]
  },
  {
   "cell_type": "code",
   "execution_count": 2,
   "id": "f581bd3f",
   "metadata": {},
   "outputs": [
    {
     "name": "stdout",
     "output_type": "stream",
     "text": [
      "3\n",
      "2\n",
      "False\n",
      "1\n",
      "True\n"
     ]
    }
   ],
   "source": [
    "# create a new stack\n",
    "my_stack = Stack()\n",
    "\n",
    "# add items to the stack\n",
    "my_stack.push(1)\n",
    "my_stack.push(2)\n",
    "my_stack.push(3)\n",
    "\n",
    "# remove items from the stack\n",
    "print(my_stack.pop())   \n",
    "print(my_stack.pop())  \n",
    "\n",
    "# check if the stack is empty\n",
    "print(my_stack.isEmpty())   \n",
    "\n",
    "# remove the last item from the stack\n",
    "print(my_stack.pop())   \n",
    "\n",
    "# check if the stack is empty again\n",
    "print(my_stack.isEmpty())   \n"
   ]
  },
  {
   "cell_type": "code",
   "execution_count": 3,
   "id": "32bf7b8a",
   "metadata": {},
   "outputs": [],
   "source": [
    "#Q2\n",
    "class Queue:\n",
    "    def __init__(self):\n",
    "        self.items = []\n",
    "\n",
    "    def enqueue(self, item):\n",
    "        self.items.insert(0, item)\n",
    "\n",
    "    def dequeue(self):\n",
    "        return self.items.pop()\n",
    "\n",
    "    def isEmpty(self):\n",
    "        return len(self.items) == 0\n"
   ]
  },
  {
   "cell_type": "code",
   "execution_count": 4,
   "id": "329b5207",
   "metadata": {},
   "outputs": [
    {
     "name": "stdout",
     "output_type": "stream",
     "text": [
      "1\n",
      "2\n",
      "False\n",
      "3\n",
      "True\n"
     ]
    }
   ],
   "source": [
    "# create a new queue\n",
    "my_queue = Queue()\n",
    "\n",
    "# add items to the queue\n",
    "my_queue.enqueue(1)\n",
    "my_queue.enqueue(2)\n",
    "my_queue.enqueue(3)\n",
    "\n",
    "# remove items from the queue\n",
    "print(my_queue.dequeue())   \n",
    "print(my_queue.dequeue())   \n",
    "\n",
    "# check if the queue is empty\n",
    "print(my_queue.isEmpty())\n",
    "\n",
    "# remove the last item from the queue\n",
    "print(my_queue.dequeue())   \n",
    "\n",
    "# check if the queue is empty again\n",
    "print(my_queue.isEmpty())  \n"
   ]
  },
  {
   "cell_type": "code",
   "execution_count": null,
   "id": "59abd88f",
   "metadata": {},
   "outputs": [],
   "source": []
  }
 ],
 "metadata": {
  "kernelspec": {
   "display_name": "Python 3 (ipykernel)",
   "language": "python",
   "name": "python3"
  },
  "language_info": {
   "codemirror_mode": {
    "name": "ipython",
    "version": 3
   },
   "file_extension": ".py",
   "mimetype": "text/x-python",
   "name": "python",
   "nbconvert_exporter": "python",
   "pygments_lexer": "ipython3",
   "version": "3.9.13"
  }
 },
 "nbformat": 4,
 "nbformat_minor": 5
}
