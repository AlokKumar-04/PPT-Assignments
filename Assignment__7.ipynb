{
 "cells": [
  {
   "cell_type": "markdown",
   "id": "22b3d6da",
   "metadata": {},
   "source": [
    "💡 **Question 1**\n",
    "\n",
    "Given two strings s and t, *determine if they are isomorphic*.\n",
    "\n",
    "Two strings s and t are isomorphic if the characters in s can be replaced to get t.\n",
    "\n",
    "All occurrences of a character must be replaced with another character while preserving the order of characters. No two characters may map to the same character, but a character may map to itself.\n",
    "\n",
    "**Example 1:**\n",
    "\n",
    "**Input:** s = \"egg\", t = \"add\"\n",
    "\n",
    "**Output:** true\n",
    "\n",
    "\n",
    "\n",
    "💡 **Question 2**\n",
    "\n",
    "Given a string num which represents an integer, return true *if* num *is a **strobogrammatic number***.\n",
    "\n",
    "A **strobogrammatic number** is a number that looks the same when rotated 180 degrees (looked at upside down).\n",
    "\n",
    "**Example 1:**\n",
    "\n",
    "**Input:** num = \"69\"\n",
    "\n",
    "**Output:**\n",
    "\n",
    "true\n",
    "\n",
    "\n",
    "\n",
    "\n",
    "💡 **Question 3**\n",
    "\n",
    "Given two non-negative integers, num1 and num2 represented as string, return *the sum of* num1 *and* num2 *as a string*.\n",
    "\n",
    "You must solve the problem without using any built-in library for handling large integers (such as BigInteger). You must also not convert the inputs to integers directly.\n",
    "\n",
    "**Example 1:**\n",
    "\n",
    "**Input:** num1 = \"11\", num2 = \"123\"\n",
    "\n",
    "**Output:**\n",
    "\n",
    "\"134\"\n",
    "\n",
    "\n",
    "\n",
    "\n",
    "💡 **Question 4**\n",
    "\n",
    "Given a string s, reverse the order of characters in each word within a sentence while still preserving whitespace and initial word order.\n",
    "\n",
    "**Example 1:**\n",
    "\n",
    "**Input:** s = \"Let's take LeetCode contest\"\n",
    "\n",
    "**Output:** \"s'teL ekat edoCteeL tsetnoc\"\n",
    "\n",
    "\n",
    "\n",
    "\n",
    "💡 **Question 5**\n",
    "\n",
    "Given a string s and an integer k, reverse the first k characters for every 2k characters counting from the start of the string.\n",
    "\n",
    "If there are fewer than k characters left, reverse all of them. If there are less than 2k but greater than or equal to k characters, then reverse the first k characters and leave the other as original.\n",
    "\n",
    "**Example 1:**\n",
    "\n",
    "**Input:** s = \"abcdefg\", k = 2\n",
    "\n",
    "**Output:**\n",
    "\n",
    "\"bacdfeg\"\n",
    "\n",
    "\n",
    "\n",
    "\n",
    "💡 **Question 6**\n",
    "\n",
    "Given two strings s and goal, return true *if and only if* s *can become* goal *after some number of **shifts** on* s.\n",
    "\n",
    "A **shift** on s consists of moving the leftmost character of s to the rightmost position.\n",
    "\n",
    "- For example, if s = \"abcde\", then it will be \"bcdea\" after one shift.\n",
    "\n",
    "**Example 1:**\n",
    "\n",
    "**Input:** s = \"abcde\", goal = \"cdeab\"\n",
    "\n",
    "**Output:**\n",
    "\n",
    "true\n",
    "\n",
    "\n",
    "\n",
    "\n",
    "💡 **Question 7**\n",
    "\n",
    "Given two strings s and t, return true *if they are equal when both are typed into empty text editors*. '#' means a backspace character.\n",
    "\n",
    "Note that after backspacing an empty text, the text will continue empty.\n",
    "\n",
    "**Example 1:**\n",
    "\n",
    "**Input:** s = \"ab#c\", t = \"ad#c\"\n",
    "\n",
    "**Output:** true\n",
    "\n",
    "**Explanation:**\n",
    "\n",
    "Both s and t become \"ac\".\n",
    "\n",
    "\n",
    "\n",
    "💡 **Question 8**\n",
    "\n",
    "You are given an array coordinates, coordinates[i] = [x, y], where [x, y] represents the coordinate of a point. Check if these points make a straight line in the XY plane.\n",
    "\n",
    "**Example 1:**\n",
    "\n",
    "**Input:** coordinates = [[1,2],[2,3],[3,4],[4,5],[5,6],[6,7]]\n",
    "\n",
    "**Output:** true"
   ]
  },
  {
   "cell_type": "code",
   "execution_count": 1,
   "id": "c7c2ab29",
   "metadata": {},
   "outputs": [],
   "source": [
    "#Q1\n",
    "def isIsomorphic(s: str, t: str) -> bool:\n",
    "    if len(s) != len(t):\n",
    "        return False\n",
    "    \n",
    "    s_dict = {}\n",
    "    t_dict = {}\n",
    "    \n",
    "    for i in range(len(s)):\n",
    "        if s[i] not in s_dict:\n",
    "            s_dict[s[i]] = t[i]\n",
    "        elif s_dict[s[i]] != t[i]:\n",
    "            return False\n",
    "        \n",
    "        if t[i] not in t_dict:\n",
    "            t_dict[t[i]] = s[i]\n",
    "        elif t_dict[t[i]] != s[i]:\n",
    "            return False\n",
    "        \n",
    "    return True\n"
   ]
  },
  {
   "cell_type": "code",
   "execution_count": 2,
   "id": "31c75518",
   "metadata": {},
   "outputs": [
    {
     "name": "stdout",
     "output_type": "stream",
     "text": [
      "True\n"
     ]
    }
   ],
   "source": [
    "print(isIsomorphic(\"egg\", \"add\"))"
   ]
  },
  {
   "cell_type": "code",
   "execution_count": 4,
   "id": "bb55fc78",
   "metadata": {},
   "outputs": [],
   "source": [
    "#Q2\n",
    "def isStrobogrammatic(num: str) -> bool:\n",
    "    strob_map = {'0': '0', '1': '1', '6': '9', '8': '8', '9': '6'}\n",
    "    \n",
    "    left, right = 0, len(num) - 1\n",
    "    \n",
    "    while left <= right:\n",
    "        if num[left] not in strob_map or num[right] not in strob_map:\n",
    "            return False\n",
    "        if strob_map[num[left]] != num[right]:\n",
    "            return False\n",
    "        \n",
    "        left += 1\n",
    "        right -= 1\n",
    "    \n",
    "    return True if left > right else strob_map[num[left]] == num[right]\n"
   ]
  },
  {
   "cell_type": "code",
   "execution_count": 5,
   "id": "abf0a6b9",
   "metadata": {},
   "outputs": [
    {
     "name": "stdout",
     "output_type": "stream",
     "text": [
      "True\n"
     ]
    }
   ],
   "source": [
    "print(isStrobogrammatic(\"69\"))  "
   ]
  },
  {
   "cell_type": "code",
   "execution_count": 6,
   "id": "8ef6255b",
   "metadata": {},
   "outputs": [],
   "source": [
    "#Q3\n",
    "def addStrings(num1: str, num2: str) -> str:\n",
    "    res = []\n",
    "    carry = 0\n",
    "    i, j = len(num1) - 1, len(num2) - 1\n",
    "    \n",
    "    while i >= 0 or j >= 0 or carry:\n",
    "        n1 = int(num1[i]) if i >= 0 else 0\n",
    "        n2 = int(num2[j]) if j >= 0 else 0\n",
    "        \n",
    "        carry, rem = divmod(n1 + n2 + carry, 10)\n",
    "        res.append(str(rem))\n",
    "        \n",
    "        i -= 1\n",
    "        j -= 1\n",
    "    \n",
    "    return ''.join(res[::-1])\n"
   ]
  },
  {
   "cell_type": "code",
   "execution_count": 7,
   "id": "582a42b6",
   "metadata": {},
   "outputs": [
    {
     "name": "stdout",
     "output_type": "stream",
     "text": [
      "134\n"
     ]
    }
   ],
   "source": [
    "print(addStrings(\"11\", \"123\"))  "
   ]
  },
  {
   "cell_type": "code",
   "execution_count": 8,
   "id": "5d4d8a32",
   "metadata": {},
   "outputs": [],
   "source": [
    "#Q4\n",
    "def reverseWords(s: str) -> str:\n",
    "    words = s.split()\n",
    "    \n",
    "    for i in range(len(words)):\n",
    "        words[i] = words[i][::-1]\n",
    "    \n",
    "    return ' '.join(words)\n"
   ]
  },
  {
   "cell_type": "code",
   "execution_count": 9,
   "id": "8e7f3b48",
   "metadata": {},
   "outputs": [
    {
     "name": "stdout",
     "output_type": "stream",
     "text": [
      "s'teL ekat edoCteeL tsetnoc\n"
     ]
    }
   ],
   "source": [
    "print(reverseWords(\"Let's take LeetCode contest\"))  "
   ]
  },
  {
   "cell_type": "code",
   "execution_count": 10,
   "id": "5c53be0b",
   "metadata": {},
   "outputs": [],
   "source": [
    "#Q5\n",
    "def reverseStr(s: str, k: int) -> str:\n",
    "    res = ''\n",
    "    \n",
    "    for i in range(0, len(s), 2*k):\n",
    "        res += s[i:i+k][::-1] + s[i+k:i+2*k]\n",
    "    \n",
    "    return res\n"
   ]
  },
  {
   "cell_type": "code",
   "execution_count": 11,
   "id": "194f58dd",
   "metadata": {},
   "outputs": [
    {
     "name": "stdout",
     "output_type": "stream",
     "text": [
      "bacdfeg\n"
     ]
    }
   ],
   "source": [
    "print(reverseStr(\"abcdefg\", 2))  "
   ]
  },
  {
   "cell_type": "code",
   "execution_count": 12,
   "id": "f081d349",
   "metadata": {},
   "outputs": [],
   "source": [
    "#Q6\n",
    "def rotateString(s: str, goal: str) -> bool:\n",
    "    if len(s) != len(goal):\n",
    "        return False\n",
    "    \n",
    "    if s == goal:\n",
    "        return True\n",
    "    \n",
    "    for i in range(len(s)):\n",
    "        if s[i:] + s[:i] == goal:\n",
    "            return True\n",
    "    \n",
    "    return False\n"
   ]
  },
  {
   "cell_type": "code",
   "execution_count": 13,
   "id": "7c66e410",
   "metadata": {},
   "outputs": [
    {
     "name": "stdout",
     "output_type": "stream",
     "text": [
      "True\n"
     ]
    }
   ],
   "source": [
    "print(rotateString(\"abcde\", \"cdeab\"))  "
   ]
  },
  {
   "cell_type": "code",
   "execution_count": 14,
   "id": "ea55bbff",
   "metadata": {},
   "outputs": [],
   "source": [
    "#Q7\n",
    "def backspaceCompare(s: str, t: str) -> bool:\n",
    "    def build(s):\n",
    "        stack = []\n",
    "        \n",
    "        for c in s:\n",
    "            if c != '#':\n",
    "                stack.append(c)\n",
    "            elif stack:\n",
    "                stack.pop()\n",
    "        \n",
    "        return ''.join(stack)\n",
    "    \n",
    "    return build(s) == build(t)\n"
   ]
  },
  {
   "cell_type": "code",
   "execution_count": 15,
   "id": "65317390",
   "metadata": {},
   "outputs": [
    {
     "name": "stdout",
     "output_type": "stream",
     "text": [
      "True\n"
     ]
    }
   ],
   "source": [
    "print(backspaceCompare(\"ab#c\", \"ad#c\"))  "
   ]
  },
  {
   "cell_type": "code",
   "execution_count": 18,
   "id": "a75ed6ba",
   "metadata": {},
   "outputs": [],
   "source": [
    "#Q8\n",
    "from typing import List\n",
    "\n",
    "def checkStraightLine(coordinates: List[List[int]]) -> bool:\n",
    "    if len(coordinates) == 2:\n",
    "        return True\n",
    "    \n",
    "    x0, y0 = coordinates[0]\n",
    "    x1, y1 = coordinates[1]\n",
    "    \n",
    "    for i in range(2, len(coordinates)):\n",
    "        xi, yi = coordinates[i]\n",
    "        if (y1 - y0) * (xi - x0) != (yi - y0) * (x1 - x0):\n",
    "            return False\n",
    "    \n",
    "    return True\n"
   ]
  },
  {
   "cell_type": "code",
   "execution_count": 19,
   "id": "36a1f60a",
   "metadata": {},
   "outputs": [
    {
     "name": "stdout",
     "output_type": "stream",
     "text": [
      "True\n"
     ]
    }
   ],
   "source": [
    "print(checkStraightLine([[1,2],[2,3],[3,4],[4,5],[5,6],[6,7]]))  "
   ]
  },
  {
   "cell_type": "code",
   "execution_count": null,
   "id": "1387fd0e",
   "metadata": {},
   "outputs": [],
   "source": []
  }
 ],
 "metadata": {
  "kernelspec": {
   "display_name": "Python 3 (ipykernel)",
   "language": "python",
   "name": "python3"
  },
  "language_info": {
   "codemirror_mode": {
    "name": "ipython",
    "version": 3
   },
   "file_extension": ".py",
   "mimetype": "text/x-python",
   "name": "python",
   "nbconvert_exporter": "python",
   "pygments_lexer": "ipython3",
   "version": "3.9.13"
  }
 },
 "nbformat": 4,
 "nbformat_minor": 5
}
