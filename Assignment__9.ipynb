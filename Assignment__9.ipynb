{
 "cells": [
  {
   "cell_type": "markdown",
   "id": "859a2ff1",
   "metadata": {},
   "source": [
    "<aside>\n",
    "💡 **Question 1**\n",
    "\n",
    "Given an integer `n`, return *`true` if it is a power of two. Otherwise, return `false`*.\n",
    "\n",
    "An integer `n` is a power of two, if there exists an integer `x` such that `n == 2x`.\n",
    "\n",
    "**Example 1:**\n",
    "Input: n = 1 \n",
    "\n",
    "Output: true\n",
    "\n",
    "**Example 2:**\n",
    "Input: n = 16 \n",
    "\n",
    "Output: true\n",
    "\n",
    "**Example 3:**\n",
    "Input: n = 3 \n",
    "\n",
    "Output: false\n",
    "\n",
    "</aside>\n",
    "\n",
    "<aside>\n",
    "💡 **Question 2**\n",
    "\n",
    "Given a number n, find the sum of the first natural numbers.\n",
    "\n",
    "**Example 1:**\n",
    "\n",
    "Input: n = 3 \n",
    "\n",
    "Output: 6\n",
    "\n",
    "**Example 2:**\n",
    "\n",
    "Input  : 5 \n",
    "\n",
    "Output : 15\n",
    "\n",
    "</aside>\n",
    "\n",
    "<aside>\n",
    "💡 **Question 3**\n",
    "\n",
    "****Given a positive integer, N. Find the factorial of N. \n",
    "\n",
    "**Example 1:**\n",
    "\n",
    "Input: N = 5 \n",
    "\n",
    "Output: 120\n",
    "\n",
    "**Example 2:**\n",
    "\n",
    "Input: N = 4\n",
    "\n",
    "Output: 24\n",
    "\n",
    "</aside>\n",
    "\n",
    "<aside>\n",
    "💡 **Question 4**\n",
    "\n",
    "Given a number N and a power P, the task is to find the exponent of this number raised to the given power, i.e. N^P.\n",
    "\n",
    "**Example 1 :** \n",
    "\n",
    "Input: N = 5, P = 2\n",
    "\n",
    "Output: 25\n",
    "\n",
    "**Example 2 :**\n",
    "Input: N = 2, P = 5\n",
    "\n",
    "Output: 32\n",
    "\n",
    "</aside>\n",
    "\n",
    "<aside>\n",
    "💡 **Question 5**\n",
    "\n",
    "Given an array of integers **arr**, the task is to find maximum element of that array using recursion.\n",
    "\n",
    "**Example 1:**\n",
    "\n",
    "Input: arr = {1, 4, 3, -5, -4, 8, 6};\n",
    "Output: 8\n",
    "\n",
    "**Example 2:**\n",
    "\n",
    "Input: arr = {1, 4, 45, 6, 10, -8};\n",
    "Output: 45\n",
    "\n",
    "</aside>\n",
    "\n",
    "<aside>\n",
    "💡 **Question 6**\n",
    "\n",
    "Given first term (a), common difference (d) and a integer N of the Arithmetic Progression series, the task is to find Nth term of the series.\n",
    "\n",
    "**Example 1:**\n",
    "\n",
    "Input : a = 2 d = 1 N = 5\n",
    "Output : 6\n",
    "The 5th term of the series is : 6\n",
    "\n",
    "**Example 2:**\n",
    "\n",
    "Input : a = 5 d = 2 N = 10\n",
    "Output : 23\n",
    "The 10th term of the series is : 23\n",
    "\n",
    "</aside>\n",
    "\n",
    "<aside>\n",
    "💡 **Question 7**\n",
    "\n",
    "Given a string S, the task is to write a program to print all permutations of a given string.\n",
    "\n",
    "**Example 1:**\n",
    "\n",
    "***Input:***\n",
    "\n",
    "*S = “ABC”*\n",
    "\n",
    "***Output:***\n",
    "\n",
    "*“ABC”, “ACB”, “BAC”, “BCA”, “CBA”, “CAB”*\n",
    "\n",
    "**Example 2:**\n",
    "\n",
    "***Input:***\n",
    "\n",
    "*S = “XY”*\n",
    "\n",
    "***Output:***\n",
    "\n",
    "*“XY”, “YX”*\n",
    "\n",
    "</aside>\n",
    "\n",
    "<aside>\n",
    "💡 **Question 8**\n",
    "\n",
    "Given an array, find a product of all array elements.\n",
    "\n",
    "**Example 1:**\n",
    "\n",
    "Input  : arr[] = {1, 2, 3, 4, 5}\n",
    "Output : 120\n",
    "**Example 2:**\n",
    "\n",
    "Input  : arr[] = {1, 6, 3}\n",
    "Output : 18\n",
    "\n",
    "</aside>"
   ]
  },
  {
   "cell_type": "code",
   "execution_count": 3,
   "id": "ef52e36b",
   "metadata": {},
   "outputs": [],
   "source": [
    "#Q1\n",
    "def isPowerOfTwo(n: int) -> bool:\n",
    "    if n <= 0:\n",
    "        return False\n",
    "    while n > 1:\n",
    "        if n % 2 != 0:\n",
    "            return False\n",
    "        n //= 2\n",
    "    return True\n"
   ]
  },
  {
   "cell_type": "code",
   "execution_count": 4,
   "id": "5a3bb11d",
   "metadata": {},
   "outputs": [
    {
     "data": {
      "text/plain": [
       "True"
      ]
     },
     "execution_count": 4,
     "metadata": {},
     "output_type": "execute_result"
    }
   ],
   "source": [
    "isPowerOfTwo(16)"
   ]
  },
  {
   "cell_type": "code",
   "execution_count": 5,
   "id": "c9b6320c",
   "metadata": {},
   "outputs": [],
   "source": [
    "#Q2\n",
    "def sumOfFirstN(n: int) -> int:\n",
    "    return (n * (n + 1)) // 2\n"
   ]
  },
  {
   "cell_type": "code",
   "execution_count": 6,
   "id": "fc99abfe",
   "metadata": {},
   "outputs": [
    {
     "data": {
      "text/plain": [
       "15"
      ]
     },
     "execution_count": 6,
     "metadata": {},
     "output_type": "execute_result"
    }
   ],
   "source": [
    "sumOfFirstN(5)"
   ]
  },
  {
   "cell_type": "code",
   "execution_count": 7,
   "id": "85c0f203",
   "metadata": {},
   "outputs": [],
   "source": [
    "#Q3\n",
    "def factorial(N: int) -> int:\n",
    "    if N == 0:\n",
    "        return 1\n",
    "    else:\n",
    "        return N * factorial(N-1)\n"
   ]
  },
  {
   "cell_type": "code",
   "execution_count": 8,
   "id": "c559953a",
   "metadata": {},
   "outputs": [
    {
     "data": {
      "text/plain": [
       "120"
      ]
     },
     "execution_count": 8,
     "metadata": {},
     "output_type": "execute_result"
    }
   ],
   "source": [
    "factorial(5)"
   ]
  },
  {
   "cell_type": "code",
   "execution_count": 9,
   "id": "9aa70418",
   "metadata": {},
   "outputs": [],
   "source": [
    "#Q4\n",
    "def exponent(N: int, P: int) -> int:\n",
    "    return N ** P\n"
   ]
  },
  {
   "cell_type": "code",
   "execution_count": 10,
   "id": "797864b7",
   "metadata": {},
   "outputs": [
    {
     "data": {
      "text/plain": [
       "25"
      ]
     },
     "execution_count": 10,
     "metadata": {},
     "output_type": "execute_result"
    }
   ],
   "source": [
    "exponent(5, 2)"
   ]
  },
  {
   "cell_type": "code",
   "execution_count": 11,
   "id": "a9ad3d37",
   "metadata": {},
   "outputs": [],
   "source": [
    "#Q5\n",
    "def maxElement(arr: list) -> int:\n",
    "    if len(arr) == 1:\n",
    "        return arr[0]\n",
    "    else:\n",
    "        return max(arr[0], maxElement(arr[1:]))\n"
   ]
  },
  {
   "cell_type": "code",
   "execution_count": 12,
   "id": "1882ba07",
   "metadata": {},
   "outputs": [
    {
     "data": {
      "text/plain": [
       "8"
      ]
     },
     "execution_count": 12,
     "metadata": {},
     "output_type": "execute_result"
    }
   ],
   "source": [
    "maxElement([1, 4, 3, -5, -4, 8, 6])"
   ]
  },
  {
   "cell_type": "code",
   "execution_count": 13,
   "id": "860a3b43",
   "metadata": {},
   "outputs": [],
   "source": [
    "#Q6\n",
    "def nthTerm(a: int, d: int, N: int) -> int:\n",
    "    return a + (N - 1) * d\n"
   ]
  },
  {
   "cell_type": "code",
   "execution_count": 14,
   "id": "a7305ae1",
   "metadata": {},
   "outputs": [
    {
     "data": {
      "text/plain": [
       "6"
      ]
     },
     "execution_count": 14,
     "metadata": {},
     "output_type": "execute_result"
    }
   ],
   "source": [
    "nthTerm(2, 1, 5)"
   ]
  },
  {
   "cell_type": "code",
   "execution_count": 15,
   "id": "355b58c0",
   "metadata": {},
   "outputs": [],
   "source": [
    "#Q7\n",
    "def permutations(S: str, left: int, right: int):\n",
    "    if left == right:\n",
    "        print(S)\n",
    "    else:\n",
    "        for i in range(left, right + 1):\n",
    "            S[left], S[i] = S[i], S[left]\n",
    "            permutations(S, left + 1, right)\n",
    "            S[left], S[i] = S[i], S[left]\n",
    "\n",
    "def allPermutations(S: str):\n",
    "    permutations(list(S), 0, len(S) - 1)\n"
   ]
  },
  {
   "cell_type": "code",
   "execution_count": 16,
   "id": "983ba106",
   "metadata": {},
   "outputs": [
    {
     "name": "stdout",
     "output_type": "stream",
     "text": [
      "['A', 'B', 'C']\n",
      "['A', 'C', 'B']\n",
      "['B', 'A', 'C']\n",
      "['B', 'C', 'A']\n",
      "['C', 'B', 'A']\n",
      "['C', 'A', 'B']\n"
     ]
    }
   ],
   "source": [
    "allPermutations(\"ABC\")"
   ]
  },
  {
   "cell_type": "code",
   "execution_count": 17,
   "id": "7bc2c19e",
   "metadata": {},
   "outputs": [],
   "source": [
    "#Q8\n",
    "def product(arr: list) -> int:\n",
    "    result = 1\n",
    "    for element in arr:\n",
    "        result *= element\n",
    "    return result\n"
   ]
  },
  {
   "cell_type": "code",
   "execution_count": 18,
   "id": "bfb9567e",
   "metadata": {},
   "outputs": [
    {
     "data": {
      "text/plain": [
       "120"
      ]
     },
     "execution_count": 18,
     "metadata": {},
     "output_type": "execute_result"
    }
   ],
   "source": [
    "product([1, 2, 3, 4, 5])"
   ]
  },
  {
   "cell_type": "code",
   "execution_count": null,
   "id": "8ef7d46a",
   "metadata": {},
   "outputs": [],
   "source": []
  }
 ],
 "metadata": {
  "kernelspec": {
   "display_name": "Python 3 (ipykernel)",
   "language": "python",
   "name": "python3"
  },
  "language_info": {
   "codemirror_mode": {
    "name": "ipython",
    "version": 3
   },
   "file_extension": ".py",
   "mimetype": "text/x-python",
   "name": "python",
   "nbconvert_exporter": "python",
   "pygments_lexer": "ipython3",
   "version": "3.9.13"
  }
 },
 "nbformat": 4,
 "nbformat_minor": 5
}
